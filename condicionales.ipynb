{
  "nbformat": 4,
  "nbformat_minor": 0,
  "metadata": {
    "colab": {
      "provenance": [],
      "authorship_tag": "ABX9TyMJFjey4YtXH4pdKgDmABlS",
      "include_colab_link": true
    },
    "kernelspec": {
      "name": "python3",
      "display_name": "Python 3"
    },
    "language_info": {
      "name": "python"
    }
  },
  "cells": [
    {
      "cell_type": "markdown",
      "metadata": {
        "id": "view-in-github",
        "colab_type": "text"
      },
      "source": [
        "<a href=\"https://colab.research.google.com/github/asher7u7/googlecolab1/blob/main/condicionales.ipynb\" target=\"_parent\"><img src=\"https://colab.research.google.com/assets/colab-badge.svg\" alt=\"Open In Colab\"/></a>"
      ]
    },
    {
      "cell_type": "markdown",
      "source": [
        "Instrucciones condicionales"
      ],
      "metadata": {
        "id": "hS7nwMBQomPb"
      }
    },
    {
      "cell_type": "code",
      "source": [
        "\"\"\"ejercicio 2:\n",
        "Programa que permita realizar un préstamo bancario, teniendo en cuenta que el\n",
        "préstamo será otorgado solamente a personas con ingresos superiores a $945200\n",
        "y que no posea ninguna otra deuda\"\"\"\n",
        "\n",
        "\n",
        "\n",
        "print(\"------------------------------------------------------\")\n",
        "print(\"programa para ver si es apto para un prestamo bancario\")\n",
        "print(\"------------------------------------------------------\")\n",
        "\n",
        "#input, procesing and output\n",
        "\n",
        "ingresos=int(input(\"¿cuanto son sus ingresos?: \"))\n",
        "if ingresos<945200:\n",
        "     print(\"no es apto para recibir el prestamo\")\n",
        "else:\n",
        "    deudas=int(input(\"¿tiene alguna deuda? 1)si. 2)no.: \"))\n",
        "    if deudas==2:\n",
        "        print(\"si es apto para recibir el prestamo\")\n",
        "    else:\n",
        "        print(\"no es apto para recibir el prestamo\")"
      ],
      "metadata": {
        "id": "VT3mBGYzpFKM"
      },
      "execution_count": null,
      "outputs": []
    },
    {
      "cell_type": "code",
      "source": [
        "\"\"\"ejercicio 3: \n",
        "El dueño de una papelería desea un programa que le indique el precio de venta\n",
        "de un articulo dado\"\"\"\n",
        "\n",
        "print(\"------------------------------------------------------------------------\")\n",
        "print(\"--------programa para calcular el precio de venta de un producto--------\")\n",
        "print(\"------------------------------------------------------------------------\")\n",
        "\n",
        "#input\n",
        "\n",
        "costoproducto=int(input(\"ingrese el costo de compra de su producto: \"))\n",
        "preciofinal=0\n",
        "#procesing \n",
        "\n",
        "if costoproducto<3000:\n",
        "    preciofinal= 15*costoproducto/100 + costoproducto\n",
        "else:\n",
        "    if costoproducto<=6000:\n",
        "        preciofinal= costoproducto+500\n",
        "    else:\n",
        "        preciofinal= 25*costoproducto/100 + costoproducto\n",
        "\n",
        "#output\n",
        "\n",
        "print(\"el precio de venta de su producto es: \" + str(preciofinal))"
      ],
      "metadata": {
        "id": "4oi3NaYZpG6B"
      },
      "execution_count": null,
      "outputs": []
    },
    {
      "cell_type": "code",
      "source": [
        "\"\"\"ejercicio 4\n",
        "programa que calcula el índice de masa corporal de una persona\n",
        "e indica el estado en el que se encuentra esa\n",
        "persona en función del valor del IMC.\"\"\"\n",
        "\n",
        "\n",
        "print(\"--------------------------------------------\")\n",
        "print(\"-------programa para calcular el IMC -------\")\n",
        "print(\"-----y indica el estado de la persona-------\")\n",
        "print(\"--------------------------------------------\")\n",
        "\n",
        "#input\n",
        "\n",
        "peso=float(input(\"digite su peso en kilogramos: \"))\n",
        "altura=float(input(\"digite su altura en metros: \"))\n",
        "\n",
        "#procesing and output\n",
        "\n",
        "IMC=(peso/(altura*altura))\n",
        "\n",
        "if IMC<16:\n",
        "    print(\"usted esta muy por debajo del peso apropiado \\ncriterio de ingreso al hospital\")\n",
        "else:\n",
        "    if IMC<17:\n",
        "        print(\"usted esta algo por debajo de su peso apropiado \\ntiene infrapeso\")\n",
        "    else:\n",
        "        if IMC<18:\n",
        "            print(\"usted esta algo por debajo de su peso apropiado \\nusted está con bajo peso\")\n",
        "        else:\n",
        "            if IMC<25:\n",
        "                print(\"usted posee un peso apropiado \\nes una persona saludable\")\n",
        "            else:\n",
        "                if IMC<30:\n",
        "                    print(\"usted  está un poco sobre su peso adecuado \\nposee sobrepeso (obesidad grado I)\")\n",
        "                else:\n",
        "                    if IMC<35:\n",
        "                        print(\"usted está algo por encima de su peso adecuado \\nusted tiene sobrepeso cronico (obesidad grado II) \")\n",
        "                    else:\n",
        "                        if IMC<40:\n",
        "                            print(\"usted está bastante por encima de su peso apropiado \\nposee obesidad premorbida (obesidad grado III)\")\n",
        "                        else:\n",
        "                            if IMC>40:\n",
        "                                print(\"rey usted necesita 3 ataudes \\n posee obesidad morbida (obesidad grado IIII)\")\n",
        "\n",
        "print(\"su imc es \" + str(IMC))"
      ],
      "metadata": {
        "id": "N4SF-09PpMUg"
      },
      "execution_count": null,
      "outputs": []
    }
  ]
}