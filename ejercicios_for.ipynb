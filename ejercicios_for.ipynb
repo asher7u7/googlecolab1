{
  "nbformat": 4,
  "nbformat_minor": 0,
  "metadata": {
    "colab": {
      "provenance": [],
      "authorship_tag": "ABX9TyPLAnGm1qMYzzpNtrbXMOFT",
      "include_colab_link": true
    },
    "kernelspec": {
      "name": "python3",
      "display_name": "Python 3"
    },
    "language_info": {
      "name": "python"
    }
  },
  "cells": [
    {
      "cell_type": "markdown",
      "metadata": {
        "id": "view-in-github",
        "colab_type": "text"
      },
      "source": [
        "<a href=\"https://colab.research.google.com/github/asher7u7/googlecolab1/blob/main/ejercicios_for.ipynb\" target=\"_parent\"><img src=\"https://colab.research.google.com/assets/colab-badge.svg\" alt=\"Open In Colab\"/></a>"
      ]
    },
    {
      "cell_type": "markdown",
      "source": [
        "# INTRUCCIÓN REPETITIVA FOR "
      ],
      "metadata": {
        "id": "frzSjdGErETx"
      }
    },
    {
      "cell_type": "code",
      "execution_count": null,
      "metadata": {
        "id": "oc-IECdDqU5B"
      },
      "outputs": [],
      "source": [
        "# Ejercicio 1: mostrar los números del 1 al 10, sin usar instruciones repetitivas \n",
        "\n",
        "print(1)\n",
        "print(2)\n",
        "print(3)\n",
        "print(4)\n",
        "print(5)\n",
        "print(6)\n",
        "print(7)\n",
        "print(8)\n",
        "print(9)\n",
        "print(10)"
      ]
    },
    {
      "cell_type": "code",
      "source": [
        "# ejercicio 2: mostrar los números del 1 al 10, usando la instrucción while\n",
        "\n",
        "contador = 1 \n",
        "print(contador)\n",
        "while contador <10:\n",
        "  #contador = contador + 1\n",
        "  contador += 1 \n",
        "  print(contador)"
      ],
      "metadata": {
        "id": "nuqfAMFEthKq"
      },
      "execution_count": null,
      "outputs": []
    },
    {
      "cell_type": "code",
      "source": [
        "# ejercicio 3: mostrar los numeros del 1 a 10, usando la instrucción for y una lista como iterable \n",
        "\n",
        "for i in [1,2,3,4,5,6,7,8,9,10]:\n",
        "  print(i)"
      ],
      "metadata": {
        "id": "xEyzTBhMvQRk"
      },
      "execution_count": null,
      "outputs": []
    },
    {
      "cell_type": "code",
      "source": [
        " for y la función range \n",
        "\n",
        "for i in range(1,11):# ejercicio 4: mostar los numeros del 1 al 10, usando la intrucción\n",
        "   print(i)"
      ],
      "metadata": {
        "id": "qKKy9ABZwvZr"
      },
      "execution_count": null,
      "outputs": []
    },
    {
      "cell_type": "code",
      "source": [
        "# ejercicio 5: mostar una frase 10 veces, usando la intrucción for  y una lista\n",
        "\n",
        "lista = [1,2,3,4,5,6,7,8,8,10]\n",
        "for i in lista:\n",
        "  print(f\"{i} sistemas el mejor!!!\")"
      ],
      "metadata": {
        "id": "CJ9L_hK-xmQ1"
      },
      "execution_count": null,
      "outputs": []
    },
    {
      "cell_type": "code",
      "source": [
        "# ejercicio 6: mostrar la silaba inicial de los dias de la semana, usando for y una lista con la silaba inicial de los dias de la semana\n",
        "\n",
        "dias_semana = [\"lu\", \"ma\", \"mi\", \"ju\", \"vi\", \"sa\", \"do\"]\n",
        "for i in dias_semana:\n",
        "  print(i)"
      ],
      "metadata": {
        "id": "Q1krQt8byurd"
      },
      "execution_count": null,
      "outputs": []
    },
    {
      "cell_type": "code",
      "source": [
        "# ejercicio 7: mostrar una lista de distintos tipos de datos, usando for\n",
        "\n",
        "lista = (1,3,4, 9, True, \"Nestor\", 8, \"Guanenta\")\n",
        "for i in lista:\n",
        "  print(i)"
      ],
      "metadata": {
        "id": "WiDFljXSzw92"
      },
      "execution_count": null,
      "outputs": []
    },
    {
      "cell_type": "code",
      "source": [
        "# ejercicio 8: ingresar su nombre y mostrarlo letra a letra,usando for \n",
        "\n",
        "nombre = input(\"Digite su nombre: \")\n",
        "for letra in nombre:\n",
        "  print(letra)"
      ],
      "metadata": {
        "id": "cN6WQuXw00Up"
      },
      "execution_count": null,
      "outputs": []
    },
    {
      "cell_type": "code",
      "source": [
        "# ejercicio 9: ingresar su nombre y mostrarlo letra a letra, usando for, cambiando por asterisco * a la vocal e \n",
        "\n",
        "nombre = input(\"Digite su nombre: \")\n",
        "for letra in nombre:\n",
        "  if letra == \"e\":\n",
        "    print(\"*\")\n",
        "  else:\n",
        "    print(letra)"
      ],
      "metadata": {
        "id": "T3xltLDs1B6Y"
      },
      "execution_count": null,
      "outputs": []
    },
    {
      "cell_type": "code",
      "source": [
        "# ejercicio 10: ingresar el nombre y mostarlo letra en letra, en mayúscula, usando for\n",
        "nombre = input(\"Digite su nombre\")\n",
        "for letra in nombre:\n",
        "  print(letra.upper())"
      ],
      "metadata": {
        "id": "Jr_rlffQACK_"
      },
      "execution_count": null,
      "outputs": []
    },
    {
      "cell_type": "code",
      "source": [
        "# ejercicio 11: imprimir lista de numeros usando for y range \n",
        "\n",
        "print(\"numeros del 0 al 9\")\n",
        "for i in range (10):\n",
        "  print(i)\n",
        "\n",
        "print(\"Números del 1 al 10\")\n",
        "for i in range(1,11):\n",
        "    print(i)\n",
        "\n",
        "print(\"10 veces la frase\")\n",
        "for i in range(10):\n",
        "  print(\"SIstemas el mejor \")\n",
        "\n",
        "print(\"10 veces la frase i = \")\n",
        "for i in range (10):\n",
        "  print(\"i =\" + str(i))\n",
        "\n",
        "print(\"10 veces la frase i = \")\n",
        "for i in range(10):\n",
        "  print(f\" i = {i}\")\n",
        "\n",
        "print(\"Rango del 7al 18, incrementando de 4 en 4\")\n",
        "for i in range (7,19,4):\n",
        "    print(i)\n",
        "\n",
        "print(\"Convierte rango en lista a, y la muestra\")\n",
        "a = list(range(1000))\n",
        "print(a)"
      ],
      "metadata": {
        "id": "-mbdu4ZKA11u"
      },
      "execution_count": null,
      "outputs": []
    }
  ]
}